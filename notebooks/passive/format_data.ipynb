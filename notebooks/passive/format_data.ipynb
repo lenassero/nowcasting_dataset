{
 "cells": [
  {
   "cell_type": "markdown",
   "id": "b9c6dad4",
   "metadata": {},
   "source": [
    "Idea is to load the csv.gz files and save them as a 'netcdf' file"
   ]
  },
  {
   "cell_type": "code",
   "execution_count": 1,
   "id": "dd830811",
   "metadata": {},
   "outputs": [
    {
     "name": "stderr",
     "output_type": "stream",
     "text": [
      "/Users/peterdudfield/miniconda3/envs/nowcasting_dataset/lib/python3.9/site-packages/google/auth/_default.py:70: UserWarning: Your application has authenticated using end user credentials from Google Cloud SDK without a quota project. You might receive a \"quota exceeded\" or \"API not enabled\" error. We recommend you rerun `gcloud auth application-default login` and make sure a quota project is added. Or you can use service accounts instead. For more information about service accounts, see https://cloud.google.com/docs/authentication/\n",
      "  warnings.warn(_CLOUD_SDK_CREDENTIALS_WARNING)\n"
     ]
    },
    {
     "name": "stdout",
     "output_type": "stream",
     "text": [
      "<xarray.Dataset>\n",
      "Dimensions:   (datetime: 723828)\n",
      "Coordinates:\n",
      "  * datetime  (datetime) datetime64[ns] 2010-12-15T13:10:00 ... 2019-08-20T23...\n",
      "Data variables: (12/1481)\n",
      "    10003     (datetime) float32 ...\n",
      "    10012     (datetime) float32 ...\n",
      "    10020     (datetime) float32 ...\n",
      "    10033     (datetime) float32 ...\n",
      "    10041     (datetime) float32 ...\n",
      "    10078     (datetime) float32 ...\n",
      "    ...        ...\n",
      "    9757      (datetime) float32 ...\n",
      "    9785      (datetime) float32 ...\n",
      "    9807      (datetime) float32 ...\n",
      "    9831      (datetime) float32 ...\n",
      "    9860      (datetime) float32 ...\n",
      "    9892      (datetime) float32 ...\n"
     ]
    }
   ],
   "source": [
    "# lets see how the current pv data is stored\n",
    "\n",
    "\n",
    "import xarray as xr\n",
    "import numpy as np\n",
    "import fsspec\n",
    "import io\n",
    "\n",
    "filename = 'gs://solar-pv-nowcasting-data/PV/PVOutput.org/UK_PV_timeseries_batch.nc'\n",
    "\n",
    "with fsspec.open(filename, mode=\"rb\") as file:\n",
    "    file_bytes = file.read()\n",
    "\n",
    "with io.BytesIO(file_bytes) as file:\n",
    "    pv_power = xr.open_dataset(file, engine=\"h5netcdf\")\n",
    "    \n",
    "# xr of coords = datetime, and data variabes are all the different pv systems\n",
    "print(pv_power)\n"
   ]
  },
  {
   "cell_type": "code",
   "execution_count": 2,
   "id": "b6ee6683",
   "metadata": {},
   "outputs": [],
   "source": [
    "# Lets try one file first\n",
    "\n",
    "import fsspec\n",
    "import pandas as pd\n",
    "import time\n",
    "\n",
    "file = \"gs://solar-pv-nowcasting-data/PV/Passive/20211027_Passiv_PV_Data/5min/2021/Jan.csv.gz\"\n",
    "file_output = \"./passive.netcdf\"\n",
    "\n",
    "t = time.time()\n",
    "passive_5min_jan_df = pd.read_csv(file)\n"
   ]
  },
  {
   "cell_type": "code",
   "execution_count": 3,
   "id": "d10582ce",
   "metadata": {},
   "outputs": [
    {
     "name": "stdout",
     "output_type": "stream",
     "text": [
      "<xarray.Dataset>\n",
      "Dimensions:   (datetime: 8858)\n",
      "Coordinates:\n",
      "  * datetime  (datetime) datetime64[ns] 2021-01-01 ... 2021-01-31T23:55:00\n",
      "Data variables: (12/884)\n",
      "    2607      (datetime) float32 nan nan 0.0 0.0 0.0 0.0 ... 0.0 0.0 0.0 0.0 0.0\n",
      "    2626      (datetime) float32 nan nan 0.0 0.0 0.0 0.0 ... 0.0 0.0 0.0 0.0 0.0\n",
      "    2631      (datetime) float32 nan nan 0.0 0.0 0.0 0.0 ... 0.0 0.0 0.0 0.0 0.0\n",
      "    2657      (datetime) float32 nan nan 0.0 0.0 0.0 0.0 ... 0.0 0.0 0.0 0.0 0.0\n",
      "    2660      (datetime) float32 nan nan 0.0 0.0 0.0 0.0 ... 0.0 0.0 0.0 0.0 0.0\n",
      "    2760      (datetime) float32 nan nan nan nan nan nan ... 0.0 0.0 0.0 0.0 0.0\n",
      "    ...        ...\n",
      "    27061     (datetime) float32 nan nan 0.0 0.0 0.0 0.0 ... 0.0 0.0 0.0 0.0 0.0\n",
      "    27062     (datetime) float32 0.0 0.0 0.0 0.0 0.0 0.0 ... 0.0 0.0 0.0 0.0 0.0\n",
      "    27063     (datetime) float32 nan nan nan nan nan nan ... nan nan nan nan nan\n",
      "    27064     (datetime) float32 0.0 0.0 0.0 0.0 0.0 0.0 ... 0.0 0.0 0.0 0.0 0.0\n",
      "    27065     (datetime) float32 nan nan 0.0 0.0 0.0 0.0 ... 0.0 0.0 0.0 0.0 0.0\n",
      "    27066     (datetime) float32 nan nan 0.0 0.0 0.0 0.0 ... 0.0 0.0 0.0 0.0 0.0\n",
      "29.398471117019653\n"
     ]
    }
   ],
   "source": [
    "# change generation_wh to power_w\n",
    "passive_5min_jan_df['power_w'] = passive_5min_jan_df['generation_wh'] / (5/60)\n",
    "passive_5min_jan_df['datetime'] = pd.to_datetime(passive_5min_jan_df['timestamp'])\n",
    "\n",
    "# pivot on ssid\n",
    "passive_5min_jan_on_ssid = passive_5min_jan_df.pivot(index='datetime', columns='ss_id', values='power_w')\n",
    "passive_5min_jan_on_ssid.columns = [str(col) for col in passive_5min_jan_on_ssid.columns]\n",
    "\n",
    "# change to xarray\n",
    "passive_5min_jan_xr = passive_5min_jan_on_ssid.to_xarray()\n",
    "\n",
    "# change to float32\n",
    "passive_5min_jan_xr = passive_5min_jan_xr.astype(np.float32)\n",
    "\n",
    "# change tdatetime to 'datetime'\n",
    "datetime = passive_5min_jan_on_ssid.index.tz_convert(\"UTC\").tz_convert(None)\n",
    "passive_5min_jan_xr['datetime'] = datetime\n",
    "\n",
    "print(passive_5min_jan_xr)"
   ]
  },
  {
   "cell_type": "code",
   "execution_count": 7,
   "id": "6577c927",
   "metadata": {},
   "outputs": [
    {
     "name": "stdout",
     "output_type": "stream",
     "text": [
      "325.2580440044403\n"
     ]
    }
   ],
   "source": [
    "# save to file\n",
    "encoding = {name: {\"compression\": \"lzf\"} for name in passive_5min_jan_xr.data_vars}\n",
    "passive_5min_jan_xr.to_netcdf(file_output, engine=\"h5netcdf\", mode=\"w\", encoding=encoding)\n",
    "\n",
    "print(time.time() - t)\n"
   ]
  },
  {
   "cell_type": "code",
   "execution_count": 4,
   "id": "f55d3a4b",
   "metadata": {},
   "outputs": [
    {
     "data": {
      "text/plain": [
       "[<matplotlib.lines.Line2D at 0x127fbfa00>]"
      ]
     },
     "execution_count": 4,
     "metadata": {},
     "output_type": "execute_result"
    },
    {
     "data": {
      "image/png": "[encoded data removed]",
      "text/plain": [
       "<Figure size 432x288 with 1 Axes>"
      ]
     },
     "metadata": {
      "needs_background": "light"
     },
     "output_type": "display_data"
    }
   ],
   "source": [
    "# plot\n",
    "pd.options.plotting.backend = \"plotly\"\n",
    "passive_5min_jan_xr['27062'].plot()"
   ]
  },
  {
   "cell_type": "code",
   "execution_count": null,
   "id": "c3fe9ebc",
   "metadata": {},
   "outputs": [],
   "source": []
  },
  {
   "cell_type": "code",
   "execution_count": null,
   "id": "757cd4dd",
   "metadata": {},
   "outputs": [],
   "source": []
  }
 ],
 "metadata": {
  "kernelspec": {
   "display_name": "Python 3 (ipykernel)",
   "language": "python",
   "name": "python3"
  },
  "language_info": {
   "codemirror_mode": {
    "name": "ipython",
    "version": 3
   },
   "file_extension": ".py",
   "mimetype": "text/x-python",
   "name": "python",
   "nbconvert_exporter": "python",
   "pygments_lexer": "ipython3",
   "version": "3.9.6"
  }
 },
 "nbformat": 4,
 "nbformat_minor": 5
}
