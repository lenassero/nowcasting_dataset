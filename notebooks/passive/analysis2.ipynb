{
 "cells": [
  {
   "cell_type": "markdown",
   "id": "1593f421",
   "metadata": {},
   "source": [
    "Analysis the Passive data\n",
    "\n",
    "This is stored in a google in roughtly this structure\n",
    "\n",
    "- 2min\n",
    "-- 2016\n",
    "- - - Jan.csv.gz\n",
    "- - - Feb.csv.gz\n",
    "- - - ...\n",
    "- - - Dec.csv.gz\n",
    "-- ...\n",
    "-- 2021\n",
    "\n",
    "- 5min\n",
    "-- 2020\n",
    "-- 2021\n",
    "\n",
    "- 30min\n",
    "-- 2010\n",
    "-- \n",
    "-- 2021\n",
    "\n",
    "llsoa_centroids.csv\n",
    "\n",
    "system_metadata_OCF_ONLY.csv\n",
    "\n",
    "system_metadata.csv\n",
    "\n",
    "I have uploaded them to GCS: \"gs://solar-pv-nowcasting-data/PV/Passive/20211027_Passiv_PV_Data\"\n"
   ]
  },
  {
   "cell_type": "code",
   "execution_count": null,
   "id": "6bad59d3",
   "metadata": {},
   "outputs": [],
   "source": [
    "# lets get a random month of 2 min data\n",
    "\n",
    "import fsspec\n",
    "import pandas as pd\n",
    "\n",
    "file = \"gs://solar-pv-nowcasting-data/PV/Passive/20211027_Passiv_PV_Data/2min/2021/Jan.csv.gz\"\n",
    "\n",
    "passive_2min_jan_df = pd.read_csv(file)\n",
    "\n",
    "print(passive_2min_jan_df.head())"
   ]
  },
  {
   "cell_type": "code",
   "execution_count": null,
   "id": "0e19934e",
   "metadata": {},
   "outputs": [],
   "source": [
    "ss_ids = passive_2min_jan_df['ss_id'].unique()\n",
    "print(f'There are {len(ss_ids)} ss_ids')\n",
    "print(f'The first 10 are {ss_ids[0:11]}')"
   ]
  },
  {
   "cell_type": "code",
   "execution_count": null,
   "id": "ba4f1bb7",
   "metadata": {},
   "outputs": [],
   "source": [
    "# lets plot a well behaved site\n",
    "print(ss_ids[10])\n",
    "passive_2min_jan_on_ssid = passive_2min_jan_df[passive_2min_jan_df['ss_id'] == ss_ids[10]]\n",
    "\n",
    "passive_2min_jan_on_ssid.drop(columns=['ss_id'], inplace=True)\n",
    "passive_2min_jan_on_ssid.set_index('timestamp', inplace=True)\n",
    "\n",
    "pd.options.plotting.backend = \"plotly\"\n",
    "passive_2min_jan_on_ssid.plot()\n",
    "\n"
   ]
  },
  {
   "cell_type": "code",
   "execution_count": null,
   "id": "a40d4ec0",
   "metadata": {},
   "outputs": [],
   "source": [
    "# lets plot a well not so behaved site\n",
    "passive_2min_jan_on_ssid = passive_2min_jan_df[passive_2min_jan_df['ss_id'] == ss_ids[0]]\n",
    "\n",
    "passive_2min_jan_on_ssid.drop(columns=['ss_id'], inplace=True)\n",
    "passive_2min_jan_on_ssid.set_index('timestamp', inplace=True)\n",
    "\n",
    "pd.options.plotting.backend = \"plotly\"\n",
    "passive_2min_jan_on_ssid.plot()"
   ]
  },
  {
   "cell_type": "code",
   "execution_count": null,
   "id": "618ce04b",
   "metadata": {},
   "outputs": [],
   "source": [
    "# lets plot a 10 sites\n",
    "passive_2min_jan_on_ssid = passive_2min_jan_df[passive_2min_jan_df['ss_id'].isin(ss_ids[0:11])]\n",
    "\n",
    "# passive_2min_jan_on_ssid.set_index('timestamp', inplace=True)\n",
    "\n",
    "print(passive_2min_jan_on_ssid.head())\n",
    "\n",
    "passive_2min_jan_on_ssid = passive_2min_jan_on_ssid.pivot(index='timestamp', columns='ss_id', values='generation_w')\n",
    "\n",
    "print(passive_2min_jan_on_ssid.head())\n",
    "\n",
    "pd.options.plotting.backend = \"plotly\"\n",
    "passive_2min_jan_on_ssid.plot()\n"
   ]
  },
  {
   "cell_type": "markdown",
   "id": "387bc52a",
   "metadata": {},
   "source": [
    "2 mins data is tricky to work with as it is not exaclty at 2 mins, so lets look at the 5 min data"
   ]
  },
  {
   "cell_type": "code",
   "execution_count": null,
   "id": "c34389bc",
   "metadata": {},
   "outputs": [],
   "source": [
    "# lets get a random month of 5 min data\n",
    "\n",
    "import fsspec\n",
    "import pandas as pd\n",
    "\n",
    "file = \"gs://solar-pv-nowcasting-data/PV/Passive/20211027_Passiv_PV_Data/5min/2021/Jan.csv.gz\"\n",
    "\n",
    "passive_2min_jan_df = pd.read_csv(file)\n",
    "\n",
    "print(passive_2min_jan_df.head())"
   ]
  },
  {
   "cell_type": "code",
   "execution_count": null,
   "id": "479bc236",
   "metadata": {},
   "outputs": [],
   "source": [
    "ss_ids = passive_2min_jan_df['ss_id'].unique()\n",
    "print(f'There are {len(ss_ids)} ss_ids')\n",
    "print(f'The first 10 are {ss_ids[0:11]}')"
   ]
  },
  {
   "cell_type": "code",
   "execution_count": null,
   "id": "c679f6f4",
   "metadata": {},
   "outputs": [],
   "source": [
    "# lets plot a 10 sites\n",
    "passive_2min_jan_on_ssid = passive_2min_jan_df[passive_2min_jan_df['ss_id'].isin(ss_ids[0:11])]\n",
    "passive_2min_jan_on_ssid = passive_2min_jan_on_ssid.pivot(index='timestamp', columns='ss_id', values='generation_wh')\n",
    "\n",
    "pd.options.plotting.backend = \"plotly\"\n",
    "passive_2min_jan_on_ssid.plot()"
   ]
  },
  {
   "cell_type": "code",
   "execution_count": null,
   "id": "cfd14282",
   "metadata": {},
   "outputs": [],
   "source": [
    "# lets get another random month of 5 min data\n",
    "\n",
    "import fsspec\n",
    "import pandas as pd\n",
    "\n",
    "file = \"gs://solar-pv-nowcasting-data/PV/Passive/20211027_Passiv_PV_Data/5min/2020/Jun.csv.gz\"\n",
    "\n",
    "passive_2min_jan_df = pd.read_csv(file)\n",
    "\n",
    "ss_ids = passive_2min_jan_df['ss_id'].unique()\n",
    "print(f'There are {len(ss_ids)} ss_ids')\n",
    "print(f'The first 10 are {ss_ids[0:11]}')\n",
    "\n",
    "# lets plot a 10 sites\n",
    "passive_2min_jan_on_ssid = passive_2min_jan_df[passive_2min_jan_df['ss_id'].isin(ss_ids[0:11])]\n",
    "passive_2min_jan_on_ssid = passive_2min_jan_on_ssid.pivot(index='timestamp', columns='ss_id', values='generation_wh')\n",
    "\n",
    "pd.options.plotting.backend = \"plotly\"\n",
    "passive_2min_jan_on_ssid.plot()\n"
   ]
  },
  {
   "cell_type": "code",
   "execution_count": null,
   "id": "f38e8260",
   "metadata": {},
   "outputs": [],
   "source": [
    "# lets look for nans\n",
    "print(passive_2min_jan_df.isnull().sum())\n",
    "# there are non nans"
   ]
  },
  {
   "cell_type": "code",
   "execution_count": null,
   "id": "d62f2084",
   "metadata": {},
   "outputs": [],
   "source": [
    "passive_2min_jan_on_ssid = passive_2min_jan_df.pivot(index='timestamp', columns='ss_id', values='generation_wh')\n",
    "\n",
    "passive_2min_jan_one_ssid = passive_2min_jan_on_ssid[2607]\n",
    "print('Nans for ssid 2607 are')\n",
    "print(passive_2min_jan_one_ssid[passive_2min_jan_one_ssid.isnull()].index)\n",
    "\n",
    "print('Nans for all ssid')\n",
    "print(passive_2min_jan_on_ssid.isnull().sum())\n"
   ]
  },
  {
   "cell_type": "code",
   "execution_count": null,
   "id": "ecfff21e",
   "metadata": {},
   "outputs": [],
   "source": [
    "passive_2min_jan_on_ssid.isnull().sum().hist(bins=1000)\n",
    "print(400/len(passive_2min_jan_on_ssid)*100)\n",
    "\n",
    "print('Most Nans are less that 5%')"
   ]
  },
  {
   "cell_type": "code",
   "execution_count": null,
   "id": "0d913878",
   "metadata": {},
   "outputs": [],
   "source": [
    "# Lets not have a look at the metadata data\n"
   ]
  },
  {
   "cell_type": "code",
   "execution_count": null,
   "id": "f54d4762",
   "metadata": {},
   "outputs": [],
   "source": [
    "import fsspec\n",
    "import pandas as pd\n",
    "\n",
    "file = \"gs://solar-pv-nowcasting-data/PV/Passive/20211027_Passiv_PV_Data/system_metadata.csv\"\n",
    "file_OCF_ONLY = \"gs://solar-pv-nowcasting-data/PV/Passive/20211027_Passiv_PV_Data/system_metadata_OCF_ONLY.csv\"\n",
    "meta_data = pd.read_csv(file)\n",
    "meta_data_ocf_only = pd.read_csv(file_OCF_ONLY)\n",
    "\n",
    "llsoa_centroids = pd.read_csv(\"gs://solar-pv-nowcasting-data/PV/Passive/20211027_Passiv_PV_Data/llsoa_centroids.csv\")\n",
    "\n",
    "print(meta_data)\n",
    "print(meta_data_ocf_only.columns)\n",
    "print(llsoa_centroids)\n",
    "\n",
    "print(meta_data.columns)\n"
   ]
  },
  {
   "cell_type": "code",
   "execution_count": null,
   "id": "86717b0b",
   "metadata": {},
   "outputs": [],
   "source": [
    "\n"
   ]
  },
  {
   "cell_type": "code",
   "execution_count": null,
   "id": "beceb8e8",
   "metadata": {},
   "outputs": [],
   "source": []
  }
 ],
 "metadata": {
  "kernelspec": {
   "display_name": "Python 3 (ipykernel)",
   "language": "python",
   "name": "python3"
  },
  "language_info": {
   "codemirror_mode": {
    "name": "ipython",
    "version": 3
   },
   "file_extension": ".py",
   "mimetype": "text/x-python",
   "name": "python",
   "nbconvert_exporter": "python",
   "pygments_lexer": "ipython3",
   "version": "3.9.6"
  }
 },
 "nbformat": 4,
 "nbformat_minor": 5
}
