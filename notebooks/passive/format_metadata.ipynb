{
 "cells": [
  {
   "cell_type": "code",
   "execution_count": 5,
   "id": "fdc86c44",
   "metadata": {},
   "outputs": [
    {
     "name": "stdout",
     "output_type": "stream",
     "text": [
      "Index(['system_id', 'system_name', 'system_size_watts', 'postcode',\n",
      "       'number_of_panels', 'panel_power_watts', 'panel_brand', 'num_inverters',\n",
      "       'inverter_power_watts', 'inverter_brand', 'orientation',\n",
      "       'array_tilt_degrees', 'shade', 'install_date', 'latitude', 'longitude',\n",
      "       'status_interval_minutes', 'number_of_panels_secondary',\n",
      "       'panel_power_watts_secondary', 'orientation_secondary',\n",
      "       'array_tilt_degrees_secondary'],\n",
      "      dtype='object')\n"
     ]
    }
   ],
   "source": [
    "import xarray as xr\n",
    "import numpy as np\n",
    "import pandas as pd\n",
    "import fsspec\n",
    "import io\n",
    "\n",
    "filename = 'gs://solar-pv-nowcasting-data/PV/PVOutput.org/UK_PV_metadata.csv'\n",
    "\n",
    "pv_metadata = pd.read_csv(filename)\n",
    "    \n",
    "# xr of coords = datetime, and data variabes are all the different pv systems\n",
    "print(pv_metadata.columns)\n",
    "\n",
    "# need to load system_id, longitude, latitude"
   ]
  },
  {
   "cell_type": "code",
   "execution_count": 29,
   "id": "b79c473f",
   "metadata": {},
   "outputs": [
    {
     "name": "stdout",
     "output_type": "stream",
     "text": [
      "Index(['ss_id', 'llsoacd', 'orientation', 'tilt', 'kwp', 'operational_at',\n",
      "       'latitude', 'longitude', 'system_id'],\n",
      "      dtype='object')\n",
      "Index(['llsoacd', 'latitude', 'longitude'], dtype='object')\n",
      "       system_id  longitude\n",
      "0           2405  -1.620456\n",
      "1           2406  -1.379257\n",
      "2           2407  -1.379257\n",
      "3           2408  -1.379257\n",
      "4           2409  -1.379257\n",
      "...          ...        ...\n",
      "24657      27063  -2.484888\n",
      "24658      27064  -0.586961\n",
      "24659      27065  -2.927046\n",
      "24660      27066  -2.850512\n",
      "24661      27067  -2.486173\n",
      "\n",
      "[24662 rows x 2 columns]\n"
     ]
    }
   ],
   "source": [
    "filename = \"gs://solar-pv-nowcasting-data/PV/Passive/20211027_Passiv_PV_Data/system_metadata.csv\"\n",
    "passive_metadata = pd.read_csv(filename)\n",
    "\n",
    "filename = \"gs://solar-pv-nowcasting-data/PV/Passive/20211027_Passiv_PV_Data/llsoa_centroids.csv\"\n",
    "passive_llsoacd = pd.read_csv(filename)\n",
    "\n",
    "# join llsoacdf data\n",
    "passive_metadata = passive_metadata.merge(passive_llsoacd, on='llsoacd', how='left')\n",
    "\n",
    "passive_metadata['system_id'] = passive_metadata['ss_id']\n",
    "\n",
    "print(passive_metadata.columns)\n",
    "print(passive_llsoacd.columns)\n",
    "\n",
    "assert 'system_id' in passive_metadata.columns\n",
    "assert 'longitude' in passive_metadata.columns\n",
    "assert 'latitude' in passive_metadata.columns\n",
    "\n",
    "print(passive_metadata[['system_id','longitude']])"
   ]
  },
  {
   "cell_type": "code",
   "execution_count": 30,
   "id": "e5ad84c1",
   "metadata": {},
   "outputs": [
    {
     "name": "stdout",
     "output_type": "stream",
     "text": [
      "Index(['ss_id', 'latitude_rounded', 'longitude_rounded', 'llsoacd',\n",
      "       'orientation', 'tilt', 'kwp', 'operational_at', 'system_id',\n",
      "       'longitude', 'latitude'],\n",
      "      dtype='object')\n",
      "       system_id  longitude\n",
      "0           2405      -1.63\n",
      "1           2406      -1.38\n",
      "2           2407      -1.38\n",
      "3           2408      -1.38\n",
      "4           2409      -1.38\n",
      "...          ...        ...\n",
      "24657      27063      -2.49\n",
      "24658      27064      -0.59\n",
      "24659      27065      -2.93\n",
      "24660      27066      -2.85\n",
      "24661      27067      -2.48\n",
      "\n",
      "[24662 rows x 2 columns]\n"
     ]
    }
   ],
   "source": [
    "filename = \"gs://solar-pv-nowcasting-data/PV/Passive/20211027_Passiv_PV_Data/system_metadata_OCF_ONLY.csv\"\n",
    "\n",
    "passive_metadata_ocf = pd.read_csv(filename)\n",
    "\n",
    "passive_metadata_ocf['system_id'] = passive_metadata_ocf['ss_id']\n",
    "passive_metadata_ocf['longitude'] = passive_metadata_ocf['longitude_rounded']\n",
    "passive_metadata_ocf['latitude'] = passive_metadata_ocf['latitude_rounded']\n",
    "    \n",
    "print(passive_metadata_ocf.columns)\n",
    "\n",
    "assert 'system_id' in passive_metadata_ocf.columns\n",
    "assert 'longitude' in passive_metadata_ocf.columns\n",
    "assert 'latitude' in passive_metadata_ocf.columns\n",
    "\n",
    "print(passive_metadata_ocf[['system_id','longitude']])"
   ]
  },
  {
   "cell_type": "code",
   "execution_count": 33,
   "id": "3727562a",
   "metadata": {},
   "outputs": [
    {
     "name": "stdout",
     "output_type": "stream",
     "text": [
      "0.004282427667684653\n",
      "0.003286490564954062\n"
     ]
    }
   ],
   "source": [
    "# check the difference\n",
    "\n",
    "print((passive_metadata_ocf['longitude'] - passive_metadata['longitude']).abs().mean())\n",
    "print((passive_metadata_ocf['latitude'] - passive_metadata['latitude']).abs().mean())"
   ]
  },
  {
   "cell_type": "code",
   "execution_count": null,
   "id": "49ca27bf",
   "metadata": {},
   "outputs": [],
   "source": []
  }
 ],
 "metadata": {
  "kernelspec": {
   "display_name": "Python 3 (ipykernel)",
   "language": "python",
   "name": "python3"
  },
  "language_info": {
   "codemirror_mode": {
    "name": "ipython",
    "version": 3
   },
   "file_extension": ".py",
   "mimetype": "text/x-python",
   "name": "python",
   "nbconvert_exporter": "python",
   "pygments_lexer": "ipython3",
   "version": "3.9.6"
  }
 },
 "nbformat": 4,
 "nbformat_minor": 5
}
